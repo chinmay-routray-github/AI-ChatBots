{
  "nbformat": 4,
  "nbformat_minor": 0,
  "metadata": {
    "colab": {
      "provenance": [],
      "gpuType": "T4",
      "authorship_tag": "ABX9TyONXe7jxHOb/XBECam/N3br",
      "include_colab_link": true
    },
    "kernelspec": {
      "name": "python3",
      "display_name": "Python 3"
    },
    "language_info": {
      "name": "python"
    },
    "accelerator": "GPU"
  },
  "cells": [
    {
      "cell_type": "markdown",
      "metadata": {
        "id": "view-in-github",
        "colab_type": "text"
      },
      "source": [
        "<a href=\"https://colab.research.google.com/github/chinmay-routray-github/AI-ChatBots/blob/main/ChatBot_feedforwardNN.ipynb\" target=\"_parent\"><img src=\"https://colab.research.google.com/assets/colab-badge.svg\" alt=\"Open In Colab\"/></a>"
      ]
    },
    {
      "cell_type": "code",
      "execution_count": 1,
      "metadata": {
        "id": "6b5cAq4g89oo"
      },
      "outputs": [],
      "source": [
        "import nltk\n",
        "from nltk.stem.porter import PorterStemmer\n",
        "import json\n",
        "import torch\n",
        "import torch.nn as nn\n",
        "import numpy as np\n",
        "import random\n",
        "import matplotlib.pyplot as plt\n"
      ]
    },
    {
      "cell_type": "code",
      "source": [
        "class Utils:\n",
        "\n",
        "  # removing punctuations\n",
        "  @staticmethod\n",
        "  def remove_punctuations(word_list):\n",
        "    punctuactions = [ '?', ',', \"'\", '!', ':', '-', '=', '.', '#']\n",
        "    for punc in punctuactions:\n",
        "      if(punc in word_list):\n",
        "        word_list.remove(punc)\n",
        "    return word_list\n",
        "\n",
        "  @staticmethod\n",
        "  def tokenization(sentence : str):\n",
        "    return Utils.remove_punctuations(sentence.split(' '))\n",
        "\n",
        "  @staticmethod\n",
        "  def stemmer(word):\n",
        "    return PorterStemmer().stem(word.lower())\n",
        "\n",
        "  # for getting bag_of_words\n",
        "  @staticmethod\n",
        "  def bag_of_words(sentence, all_words):\n",
        "\n",
        "    # getting all words from input sentence\n",
        "    sentence_words = []\n",
        "    sentence_words.extend(Utils.tokenization(sentence))\n",
        "\n",
        "    # stemming those words\n",
        "    sentence_words = [Utils.stemmer(w) for w in sentence_words]\n",
        "\n",
        "    # getting bag of words\n",
        "    bag_of_words = torch.zeros(len(all_words))\n",
        "    for idx, word in enumerate(all_words):\n",
        "      if(word in sentence_words):\n",
        "        bag_of_words[idx] = 1\n",
        "    return bag_of_words\n",
        "\n",
        "\n",
        "  # for extracting from file prior training\n",
        "  @staticmethod\n",
        "  def word_extractor(all_lines):\n",
        "    all_words = []\n",
        "\n",
        "    # getting all words\n",
        "    for line in all_lines:\n",
        "      all_words.extend(Utils.tokenization(line))\n",
        "\n",
        "    # getting all unique words\n",
        "    all_words = [Utils.stemmer(word) for word in all_words]\n",
        "    all_words = sorted(set(all_words))\n",
        "    return all_words\n"
      ],
      "metadata": {
        "id": "MbKKjqww9vE_"
      },
      "execution_count": 2,
      "outputs": []
    },
    {
      "cell_type": "markdown",
      "source": [
        "Verification of Utils class"
      ],
      "metadata": {
        "id": "lat57uZICtoz"
      }
    },
    {
      "cell_type": "code",
      "source": [
        "sen = \"I m the man. What do you think ?\"\n",
        "# m = [\"organize\", \"organization\"]\n",
        "l = Utils.tokenization(sen)\n",
        "# l = [Utils.stemmer(w) for w in l]\n",
        "print(l)"
      ],
      "metadata": {
        "colab": {
          "base_uri": "https://localhost:8080/"
        },
        "id": "eVhrzTXW-6A3",
        "outputId": "a92c3e86-2a82-4e4d-e7b2-a324a44e501f"
      },
      "execution_count": 3,
      "outputs": [
        {
          "output_type": "stream",
          "name": "stdout",
          "text": [
            "['I', 'm', 'the', 'man.', 'What', 'do', 'you', 'think']\n"
          ]
        }
      ]
    },
    {
      "cell_type": "markdown",
      "source": [
        "Creating the training datatset"
      ],
      "metadata": {
        "id": "Re5K48dm7s_C"
      }
    },
    {
      "cell_type": "code",
      "source": [
        "\n",
        "# reading the input data file\n",
        "filepath = r\"/content/intents.json\"\n",
        "with open(filepath, 'r') as f:\n",
        "  intent = json.load(f)\n",
        "\n",
        "# creating input-label and input-output dictionary\n",
        "label_dict = {}\n",
        "io_dict = {}\n",
        "for i in intent['intents']:\n",
        "  label_dict[ i['tag' ]] = i['patterns']\n",
        "\n",
        "for j in intent['intents']:\n",
        "  io_dict[ j['tag']] = j['responses']\n",
        "\n",
        "# getting all words from input-label dictionary\n",
        "all_sentences = []\n",
        "for key in label_dict:\n",
        "  all_sentences.extend(label_dict[key])\n",
        "\n",
        "all_words = Utils.word_extractor(all_sentences)\n",
        "\n",
        "\n",
        "# creating the input data\n",
        "x_train = []\n",
        "for sentence in all_sentences:\n",
        "  x_train.append(Utils.bag_of_words(sentence, all_words))\n",
        "\n",
        "\n",
        "# creating output labels\n",
        "y_train = []\n",
        "labels = []\n",
        "idx = 0\n",
        "for key in label_dict:\n",
        "  for i in range(len(label_dict[key])):\n",
        "    y_train.append(idx)\n",
        "  labels.append(idx)\n",
        "  idx += 1\n",
        "y_train = torch.as_tensor(y_train)\n",
        "\n",
        "print(y_train.shape, len(x_train))\n"
      ],
      "metadata": {
        "colab": {
          "base_uri": "https://localhost:8080/"
        },
        "id": "gmUFhes3C0LR",
        "outputId": "b7a486b5-e265-4a97-d3c9-8dd297646d37"
      },
      "execution_count": 4,
      "outputs": [
        {
          "output_type": "stream",
          "name": "stdout",
          "text": [
            "torch.Size([26]) 26\n"
          ]
        }
      ]
    },
    {
      "cell_type": "markdown",
      "source": [
        "Designing the Neural Network"
      ],
      "metadata": {
        "id": "puJ0pT_f4qOg"
      }
    },
    {
      "cell_type": "code",
      "source": [
        "# our neural network has 2 hidden layers, 1 output layer and ReLU activation\n",
        "class NeuralNet(nn.Module):\n",
        "\n",
        "  def __init__(self, input_size, hidden_size, num_class):\n",
        "    super(NeuralNet, self).__init__()\n",
        "    self.l1 = nn.Linear(input_size, hidden_size)\n",
        "    self.l2 = nn.Linear(hidden_size, hidden_size)\n",
        "    self.l3 = nn.Linear(hidden_size, num_class)\n",
        "    self.relu = nn.ReLU()\n",
        "\n",
        "  def forward(self, x_in):\n",
        "    out = self.l1(x_in)\n",
        "    out = self.relu(out)\n",
        "    out = self.l2(out)\n",
        "    out = self.relu(out)\n",
        "    out = self.l3(out)\n",
        "    return out"
      ],
      "metadata": {
        "id": "3gikkQaq4Qvk"
      },
      "execution_count": 5,
      "outputs": []
    },
    {
      "cell_type": "markdown",
      "source": [
        "Initializing the hyper-parameters"
      ],
      "metadata": {
        "id": "qL5TB54P2evG"
      }
    },
    {
      "cell_type": "code",
      "source": [
        "\n",
        "# setting the hyper-parameters\n",
        "num_epochs = 1000\n",
        "batch_size = 8\n",
        "learning_rate = 0.001\n",
        "input_size = len(x_train[0])\n",
        "hidden_size = 8\n",
        "output_size = len(labels)\n",
        "print(input_size, hidden_size, output_size)"
      ],
      "metadata": {
        "colab": {
          "base_uri": "https://localhost:8080/"
        },
        "id": "94lABd8r2rPr",
        "outputId": "932fc60f-6e2e-473d-ee52-e2b84d6c5137"
      },
      "execution_count": 6,
      "outputs": [
        {
          "output_type": "stream",
          "name": "stdout",
          "text": [
            "57 8 7\n"
          ]
        }
      ]
    },
    {
      "cell_type": "markdown",
      "source": [
        "Pre-training Procedures"
      ],
      "metadata": {
        "id": "ml5gcMYQ8meB"
      }
    },
    {
      "cell_type": "code",
      "source": [
        "\n",
        "from torch.utils.data import Dataset, DataLoader\n",
        "\n",
        "class ChatDataset(Dataset):\n",
        "\n",
        "  def __init__(self):\n",
        "    self.n_samples = len(x_train)\n",
        "    self.x_data = x_train\n",
        "    self.y_data = y_train\n",
        "\n",
        "  def __getitem__(self, idx):\n",
        "    return self.x_data[idx], self.y_data[idx]\n",
        "\n",
        "  def __len__(self):\n",
        "    return self.n_samples\n",
        "\n",
        "\n",
        "dataset = ChatDataset()\n",
        "train_loader = DataLoader(dataset = dataset, batch_size = batch_size,\n",
        "                          shuffle = True, num_workers=0)\n",
        "\n",
        "# device = torch.device('cuda' if torch.cuda.is_available else 'cpu')\n",
        "# If nvidia gpu is not available\n",
        "device = torch.device('cpu')\n",
        "\n",
        "# Instantiating our Neural net\n",
        "model = NeuralNet(input_size, hidden_size, output_size).to(device)\n",
        "\n",
        "# Loss function and optimizer\n",
        "cost_f = nn.CrossEntropyLoss()\n",
        "optimizer = torch.optim.Adam(model.parameters(), lr = learning_rate)\n"
      ],
      "metadata": {
        "id": "0yx33kqW8qvv"
      },
      "execution_count": 7,
      "outputs": []
    },
    {
      "cell_type": "markdown",
      "source": [
        "Validating the DataLoader"
      ],
      "metadata": {
        "id": "odgBWY6xoMeL"
      }
    },
    {
      "cell_type": "code",
      "source": [
        "for (words, label) in train_loader:\n",
        "  print((words, label))\n"
      ],
      "metadata": {
        "id": "K3hUwEqgHPhl"
      },
      "execution_count": null,
      "outputs": []
    },
    {
      "cell_type": "markdown",
      "source": [
        "Training our Model"
      ],
      "metadata": {
        "id": "bBw62LaG5wT5"
      }
    },
    {
      "cell_type": "code",
      "source": [
        "t = []\n",
        "s = []\n",
        "# Training the model\n",
        "for epoch in range(num_epochs):\n",
        "  n = 0\n",
        "  for (words, label) in train_loader:\n",
        "    words = words.to(device)\n",
        "    label = label.to(device)\n",
        "\n",
        "    # forward propagation\n",
        "    output = model(words)\n",
        "    loss = cost_f(output, label)\n",
        "\n",
        "    #backward propagation\n",
        "    optimizer.zero_grad()\n",
        "    loss.backward()\n",
        "    optimizer.step()\n",
        "\n",
        "    if(n == 3):\n",
        "      t.append(loss.item())\n",
        "    n += 1\n",
        "  if((epoch+1) % 100 == 0):\n",
        "      print(f\"Epoch : {epoch+1}/{num_epochs}  Loss : {loss.item():.4f}\")\n",
        "\n",
        "  s.append(epoch)\n",
        "\n",
        "print(f\"Traing complete... \\n with Final loss : {loss.item():.4f}\")\n",
        "\n",
        "\n",
        "# saving the trained model\n",
        "data ={\n",
        "    'model_state' : model.state_dict(),\n",
        "    \"input_size\" : input_size,\n",
        "    \"hidden_size\" : hidden_size,\n",
        "    \"output_size\" : output_size,\n",
        "    \"word_collection\" : all_words,\n",
        "    \"labels\" : labels\n",
        "}\n",
        "\n",
        "FILE = \"trained_model.pth\"\n",
        "torch.save(data, FILE)\n",
        "\n",
        "print(f\"saving the trained model... file saved to {FILE}\")\n",
        "\n",
        "# generating loss versus no. of iterations\n",
        "plt.plot(s,t)\n",
        "plt.xlabel(\"no. of iterations\")\n",
        "plt.ylabel(\"cost function\")\n",
        "plt.show()"
      ],
      "metadata": {
        "colab": {
          "base_uri": "https://localhost:8080/",
          "height": 685
        },
        "id": "IKeCwzgL51Vq",
        "outputId": "f233e075-9aea-437f-cb1f-f1916fe0108a"
      },
      "execution_count": 9,
      "outputs": [
        {
          "output_type": "stream",
          "name": "stdout",
          "text": [
            "Epoch : 100/1000  Loss : 0.8255\n",
            "Epoch : 200/1000  Loss : 0.1344\n",
            "Epoch : 300/1000  Loss : 0.1031\n",
            "Epoch : 400/1000  Loss : 0.0042\n",
            "Epoch : 500/1000  Loss : 0.0038\n",
            "Epoch : 600/1000  Loss : 0.0008\n",
            "Epoch : 700/1000  Loss : 0.0010\n",
            "Epoch : 800/1000  Loss : 0.0012\n",
            "Epoch : 900/1000  Loss : 0.0012\n",
            "Epoch : 1000/1000  Loss : 0.0005\n",
            "Traing complete... \n",
            " with Final loss : 0.0005\n",
            "saving the trained model... file saved to trained_model.pth\n"
          ]
        },
        {
          "output_type": "display_data",
          "data": {
            "text/plain": [
              "<Figure size 640x480 with 1 Axes>"
            ],
            "image/png": "[encoded data removed]"
          },
          "metadata": {}
        }
      ]
    },
    {
      "cell_type": "markdown",
      "source": [
        "Designing the output"
      ],
      "metadata": {
        "id": "Emup9b3VWYyb"
      }
    },
    {
      "cell_type": "code",
      "source": [
        "data = torch.load(FILE)\n",
        "input_size = data['input_size']\n",
        "hiddent_size = data['hidden_size']\n",
        "output_size = data['output_size']\n",
        "all_words = data['word_collection']\n",
        "labels = data['labels']\n",
        "model_state = data['model_state']\n",
        "\n",
        "# utilizing the model\n",
        "model = NeuralNet(input_size, hidden_size, output_size).to(device)\n",
        "model.load_state_dict(model_state)\n",
        "model.eval()\n",
        "\n",
        "# This is for generating stand-alone response\n",
        "# sen = \"fuck off\"\n",
        "# x = Utils.bag_of_words(sen, all_words)\n",
        "# o = model(x)\n",
        "\n",
        "# output = torch.softmax(o, dim=0).tolist()\n",
        "# tag = output.index(max(output)) if max(output) > 0.45 else 'Please elaborate'\n",
        "# tag\n",
        "\n",
        "# for idx,key in enumerate(io_dict):\n",
        "#   if(idx == tag):\n",
        "#     print(io_dict[key][random.randint(0,len(io_dict[key])-1)])\n",
        "\n",
        "\n",
        "# Begin the chat\n",
        "print(\"Hi, I m Tito. Chat with me or enter quit to stop.\")\n",
        "\n",
        "while True:\n",
        "\n",
        "  # getting the question\n",
        "  sen = input(\"You :\").lower()\n",
        "  if(sen == 'quit'):\n",
        "    break\n",
        "  x = Utils.bag_of_words(sen, all_words)\n",
        "  o = model(x)\n",
        "\n",
        "  output = torch.softmax(o, dim=0).tolist()\n",
        "  tag = output.index(max(output)) if max(output) > 0.45 else 'Please elaborate...'\n",
        "  if(tag == 'Please elaborate...'):\n",
        "    print(tag)\n",
        "    continue\n",
        "\n",
        "  # Bot reply\n",
        "  for idx,key in enumerate(io_dict):\n",
        "    if(idx == tag):\n",
        "      print(f\"Tito : {io_dict[key][random.randint(0,len(io_dict[key])-1)]}\")"
      ],
      "metadata": {
        "colab": {
          "base_uri": "https://localhost:8080/"
        },
        "id": "37T8A5blWeQ-",
        "outputId": "7f1f356f-6133-4024-bf93-a6e1775d1453"
      },
      "execution_count": 10,
      "outputs": [
        {
          "name": "stdout",
          "output_type": "stream",
          "text": [
            "Hi, I m Tito. Chat with me or enter quit to stop.\n",
            "You :Hey Tito!\n",
            "Tito : Hello, thanks for visiting\n",
            "You :How are you?\n",
            "Tito : Hi there, how can I help?\n",
            "You :I want something.\n",
            "Tito : Hi there, what can I do for you?\n",
            "You :I want tea.\n",
            "Tito : Hi there, what can I do for you?\n",
            "You :Give me money.\n",
            "Please elaborate...\n",
            "You :Bye\n",
            "Tito : Have a nice day\n",
            "You :Quit\n"
          ]
        }
      ]
    },
    {
      "cell_type": "markdown",
      "source": [
        "Resources :\n",
        "\n",
        "1 - https://www.youtube.com/watch?v=RpWeNzfSUHw&ab_channel=PatrickLoeber\n",
        "\n",
        "2 - https://github.com/patrickloeber/pytorch-chatbot"
      ],
      "metadata": {
        "id": "W0j9GCA9TjbM"
      }
    }
  ]
}